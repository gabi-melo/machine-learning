{
 "cells": [
  {
   "cell_type": "code",
   "execution_count": 2,
   "id": "7475819d",
   "metadata": {},
   "outputs": [],
   "source": [
    "import numpy as np\n",
    "import matplotlib.pyplot as plt\n",
    "from sklearn.tree import DecisionTreeRegressor"
   ]
  },
  {
   "cell_type": "code",
   "execution_count": 7,
   "id": "db0653bb",
   "metadata": {},
   "outputs": [],
   "source": [
    "class grad_descent:\n",
    "\n",
    "    def __init__(self):\n",
    "        self.curr_a = 0\n",
    "        self.curr_b = 0\n",
    "        self.cost = 0\n",
    "        \n",
    "    def fit(self, x):\n",
    "    \n",
    "        self.prev_a = self.curr_a\n",
    "        self.prev_b = self.curr_b\n",
    "        \n",
    "        self.y_pred = self.curr_a*x + self.curr_b\n",
    "    \n",
    "        return self.y_pred\n",
    "            \n",
    "    def predict(self, x, y, alpha):\n",
    "        \n",
    "        m = len(x)\n",
    "        \n",
    "        ad = -(2/m)*sum(x*(y-self.y_pred))\n",
    "        bd = -(2/m)*sum(y-self.y_pred)\n",
    "\n",
    "        self.curr_a = self.curr_a - self.alpha * ad   \n",
    "        self.curr_b = self.curr_b - self.alpha * bd\n",
    "\n",
    "        self.cost = (1/m)*sum((y-self.y_pred)**2)\n",
    "                        \n",
    "        return self.curr_a, self.curr_b, self.cost\n"
   ]
  },
  {
   "cell_type": "code",
   "execution_count": null,
   "id": "ab587b5f",
   "metadata": {},
   "outputs": [],
   "source": [
    "logs = {\"iter\": [], \"slope\": [], \"cost\": [], \"diff_a\": [], \"diff_b\": []}\n",
    "\n",
    "for i in range(max_iters):\n",
    "\n",
    "    fit(self)\n",
    "\n",
    "    predict(self)\n",
    "\n",
    "    self.logs[\"iter\"].append(i)\n",
    "    self.logs[\"slope\"].append(self.curr_a)\n",
    "    self.logs[\"cost\"].append(self.cost)\n",
    "    self.logs[\"diff_a\"].append(self.curr_a - self.prev_a)\n",
    "    self.logs[\"diff_b\"].append(self.curr_b - self.prev_b)\n",
    "\n",
    "    if abs(self.curr_a - self.prev_a) < min_step and abs(self.curr_b - self.prev_b) < min_step:\n",
    "        print(\"local minimum:\", self.curr_a, self.curr_b)\n",
    "        break"
   ]
  },
  {
   "cell_type": "code",
   "execution_count": null,
   "id": "d438343f",
   "metadata": {},
   "outputs": [],
   "source": [
    "def plot_results(logs, x, y, y_pred):\n",
    "\n",
    "    plt.figure(figsize=(15,4))\n",
    "\n",
    "    plt.subplot(1,3,1)\n",
    "    plt.plot(logs[\"iter\"],logs[\"slope\"])\n",
    "    plt.xlabel(\"iteration\")\n",
    "    plt.ylabel(\"slope\")\n",
    "\n",
    "    plt.subplot(1,3,2)\n",
    "    plt.plot(logs[\"iter\"],logs[\"cost\"])\n",
    "    plt.yscale(\"log\")\n",
    "    plt.xlabel(\"iteration\")\n",
    "    plt.ylabel(\"log cost\")\n",
    "\n",
    "    plt.subplot(1,3,3)\n",
    "    plt.plot(x, y_pred)\n",
    "    plt.xlabel(\"x\")\n",
    "    plt.ylabel(\"y pred\")\n",
    "    plt.scatter(x, y)"
   ]
  },
  {
   "cell_type": "code",
   "execution_count": null,
   "id": "ad3642be",
   "metadata": {},
   "outputs": [],
   "source": [
    "x = np.array([1,2,4,4,5])\n",
    "y = np.array([5,7,8,11,13])\n",
    "\n",
    "logs, x, y, y_pred = grad_descent(x,y)\n",
    "plot_results(logs, x, y, y_pred)"
   ]
  }
 ],
 "metadata": {
  "kernelspec": {
   "display_name": "Python 3 (ipykernel)",
   "language": "python",
   "name": "python3"
  },
  "language_info": {
   "codemirror_mode": {
    "name": "ipython",
    "version": 3
   },
   "file_extension": ".py",
   "mimetype": "text/x-python",
   "name": "python",
   "nbconvert_exporter": "python",
   "pygments_lexer": "ipython3",
   "version": "3.9.7"
  }
 },
 "nbformat": 4,
 "nbformat_minor": 5
}
